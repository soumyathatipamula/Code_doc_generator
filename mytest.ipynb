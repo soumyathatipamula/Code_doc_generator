{
 "cells": [
  {
   "cell_type": "code",
   "execution_count": 13,
   "metadata": {},
   "outputs": [
    {
     "name": "stderr",
     "output_type": "stream",
     "text": [
      "[nltk_data] Downloading package punkt to\n",
      "[nltk_data]     C:\\Users\\sainithin\\AppData\\Roaming\\nltk_data...\n",
      "[nltk_data]   Package punkt is already up-to-date!\n"
     ]
    }
   ],
   "source": [
    "import os\n",
    "import pandas as pd\n",
    "import nltk\n",
    "\n",
    "nltk.download('punkt')\n",
    "\n",
    "def load_dataset(dataset_path):\n",
    "    # Assuming you have downloaded CodeSearchNet dataset and placed it under data/raw\n",
    "    data_files = [os.path.join(dataset_path, f) for f in os.listdir(dataset_path) if f.endswith('.jsonl')]\n",
    "    data = []\n",
    "    for file in data_files:\n",
    "        df = pd.read_json(file, lines=True)\n",
    "        data.append(df)\n",
    "    return pd.concat(data, ignore_index=True)\n",
    "\n",
    "def preprocess_code(code):\n",
    "    # Tokenization and cleaning of code\n",
    "    tokens = nltk.word_tokenize(code)\n",
    "    return ' '.join(tokens)\n",
    "\n",
    "def preprocess_data(df):\n",
    "    df['processed_code'] = df['code'].apply(preprocess_code)\n",
    "    return df[['processed_code', 'docstring']]\n",
    "\n",
    "if __name__ == \"main\":\n",
    "# Update the dataset path to the correct location\n",
    "    dataset_path = 'E:/sai/UCE/Code_doc_generator/Datasets'\n",
    "    data = load_dataset(dataset_path)\n",
    "    processed_data = preprocess_data(data)\n",
    "    processed_data.to_csv('./data/processed/processed_code.csv', index=False)\n"
   ]
  },
  {
   "cell_type": "code",
   "execution_count": 19,
   "metadata": {},
   "outputs": [
    {
     "name": "stdout",
     "output_type": "stream",
     "text": [
      "Loading dataset from: E:/sai/UCE/Code_doc_generator/Datasets\n",
      "Found files: []\n",
      "No .jsonl files found in the directory.\n",
      "No data loaded. Please check the dataset directory.\n"
     ]
    },
    {
     "name": "stderr",
     "output_type": "stream",
     "text": [
      "[nltk_data] Downloading package punkt to\n",
      "[nltk_data]     C:\\Users\\sainithin\\AppData\\Roaming\\nltk_data...\n",
      "[nltk_data]   Package punkt is already up-to-date!\n"
     ]
    }
   ],
   "source": [
    "import os\n",
    "import pandas as pd\n",
    "import nltk\n",
    "\n",
    "nltk.download('punkt')\n",
    "\n",
    "def load_dataset(dataset_path):\n",
    "    # Print dataset path and check if the directory exists\n",
    "    print(f\"Loading dataset from: {dataset_path}\")\n",
    "    if not os.path.exists(dataset_path):\n",
    "        print(\"Directory does not exist.\")\n",
    "        return pd.DataFrame()\n",
    "\n",
    "    # Find all .jsonl files\n",
    "    data_files = [os.path.join(dataset_path, f) for f in os.listdir(dataset_path) if f.endswith('.jsonl')]\n",
    "    print(f\"Found files: {data_files}\")  # Print the files found\n",
    "\n",
    "    # If no files are found, print a message and return an empty DataFrame\n",
    "    if not data_files:\n",
    "        print(\"No .jsonl files found in the directory.\")\n",
    "        return pd.DataFrame()\n",
    "\n",
    "    data = []\n",
    "    for file in data_files:\n",
    "        df = pd.read_json(file, lines=True)\n",
    "        data.append(df)\n",
    "    return pd.concat(data, ignore_index=True)\n",
    "\n",
    "def preprocess_code(code):\n",
    "    # Tokenization and cleaning of code\n",
    "    tokens = nltk.word_tokenize(code)\n",
    "    return ' '.join(tokens)\n",
    "\n",
    "def preprocess_data(df):\n",
    "    if df.empty:\n",
    "        print(\"No data to preprocess.\")\n",
    "        return pd.DataFrame()\n",
    "    print(\"Preprocessing data...\")\n",
    "    df['processed_code'] = df['code'].apply(preprocess_code)\n",
    "    print(\"Data preprocessed successfully.\")\n",
    "    return df[['processed_code', 'docstring']]\n",
    "\n",
    "if __name__ == \"__main__\":\n",
    "    dataset_path = 'E:/sai/UCE/Code_doc_generator/Datasets'\n",
    "    data = load_dataset(dataset_path)\n",
    "    if not data.empty:\n",
    "        processed_data = preprocess_data(data)\n",
    "        processed_data_dir = './data/processed'\n",
    "        os.makedirs(processed_data_dir, exist_ok=True)\n",
    "        processed_file_path = os.path.join(processed_data_dir, 'processed_code.csv')\n",
    "        processed_data.to_csv(processed_file_path, index=False)\n",
    "        print(f\"Processed data saved at: {processed_file_path}\")\n",
    "    else:\n",
    "        print(\"No data loaded. Please check the dataset directory.\")\n"
   ]
  },
  {
   "cell_type": "code",
   "execution_count": 18,
   "metadata": {},
   "outputs": [
    {
     "name": "stdout",
     "output_type": "stream",
     "text": [
      "Loading dataset from: E:/sai/UCE/Code_doc_generator/Datasets\n",
      "Found files: []\n"
     ]
    },
    {
     "name": "stderr",
     "output_type": "stream",
     "text": [
      "[nltk_data] Downloading package punkt to\n",
      "[nltk_data]     C:\\Users\\sainithin\\AppData\\Roaming\\nltk_data...\n",
      "[nltk_data]   Package punkt is already up-to-date!\n"
     ]
    },
    {
     "ename": "ValueError",
     "evalue": "No objects to concatenate",
     "output_type": "error",
     "traceback": [
      "\u001b[1;31m---------------------------------------------------------------------------\u001b[0m",
      "\u001b[1;31mValueError\u001b[0m                                Traceback (most recent call last)",
      "Cell \u001b[1;32mIn[18], line 31\u001b[0m\n\u001b[0;32m     29\u001b[0m \u001b[38;5;28;01mif\u001b[39;00m \u001b[38;5;18m__name__\u001b[39m \u001b[38;5;241m==\u001b[39m \u001b[38;5;124m\"\u001b[39m\u001b[38;5;124m__main__\u001b[39m\u001b[38;5;124m\"\u001b[39m:\n\u001b[0;32m     30\u001b[0m     dataset_path \u001b[38;5;241m=\u001b[39m \u001b[38;5;124m'\u001b[39m\u001b[38;5;124mE:/sai/UCE/Code_doc_generator/Datasets\u001b[39m\u001b[38;5;124m'\u001b[39m\n\u001b[1;32m---> 31\u001b[0m     data \u001b[38;5;241m=\u001b[39m \u001b[43mload_dataset\u001b[49m\u001b[43m(\u001b[49m\u001b[43mdataset_path\u001b[49m\u001b[43m)\u001b[49m\n\u001b[0;32m     32\u001b[0m     processed_data \u001b[38;5;241m=\u001b[39m preprocess_data(data)\n\u001b[0;32m     33\u001b[0m     processed_data_dir \u001b[38;5;241m=\u001b[39m \u001b[38;5;124m'\u001b[39m\u001b[38;5;124m./data/processed\u001b[39m\u001b[38;5;124m'\u001b[39m\n",
      "Cell \u001b[1;32mIn[18], line 16\u001b[0m, in \u001b[0;36mload_dataset\u001b[1;34m(dataset_path)\u001b[0m\n\u001b[0;32m     14\u001b[0m     df \u001b[38;5;241m=\u001b[39m pd\u001b[38;5;241m.\u001b[39mread_json(file, lines\u001b[38;5;241m=\u001b[39m\u001b[38;5;28;01mTrue\u001b[39;00m)\n\u001b[0;32m     15\u001b[0m     data\u001b[38;5;241m.\u001b[39mappend(df)\n\u001b[1;32m---> 16\u001b[0m \u001b[38;5;28;01mreturn\u001b[39;00m \u001b[43mpd\u001b[49m\u001b[38;5;241;43m.\u001b[39;49m\u001b[43mconcat\u001b[49m\u001b[43m(\u001b[49m\u001b[43mdata\u001b[49m\u001b[43m,\u001b[49m\u001b[43m \u001b[49m\u001b[43mignore_index\u001b[49m\u001b[38;5;241;43m=\u001b[39;49m\u001b[38;5;28;43;01mTrue\u001b[39;49;00m\u001b[43m)\u001b[49m\n",
      "File \u001b[1;32mc:\\Users\\sainithin\\AppData\\Local\\Programs\\Python\\Python312\\Lib\\site-packages\\pandas\\core\\reshape\\concat.py:382\u001b[0m, in \u001b[0;36mconcat\u001b[1;34m(objs, axis, join, ignore_index, keys, levels, names, verify_integrity, sort, copy)\u001b[0m\n\u001b[0;32m    379\u001b[0m \u001b[38;5;28;01melif\u001b[39;00m copy \u001b[38;5;129;01mand\u001b[39;00m using_copy_on_write():\n\u001b[0;32m    380\u001b[0m     copy \u001b[38;5;241m=\u001b[39m \u001b[38;5;28;01mFalse\u001b[39;00m\n\u001b[1;32m--> 382\u001b[0m op \u001b[38;5;241m=\u001b[39m \u001b[43m_Concatenator\u001b[49m\u001b[43m(\u001b[49m\n\u001b[0;32m    383\u001b[0m \u001b[43m    \u001b[49m\u001b[43mobjs\u001b[49m\u001b[43m,\u001b[49m\n\u001b[0;32m    384\u001b[0m \u001b[43m    \u001b[49m\u001b[43maxis\u001b[49m\u001b[38;5;241;43m=\u001b[39;49m\u001b[43maxis\u001b[49m\u001b[43m,\u001b[49m\n\u001b[0;32m    385\u001b[0m \u001b[43m    \u001b[49m\u001b[43mignore_index\u001b[49m\u001b[38;5;241;43m=\u001b[39;49m\u001b[43mignore_index\u001b[49m\u001b[43m,\u001b[49m\n\u001b[0;32m    386\u001b[0m \u001b[43m    \u001b[49m\u001b[43mjoin\u001b[49m\u001b[38;5;241;43m=\u001b[39;49m\u001b[43mjoin\u001b[49m\u001b[43m,\u001b[49m\n\u001b[0;32m    387\u001b[0m \u001b[43m    \u001b[49m\u001b[43mkeys\u001b[49m\u001b[38;5;241;43m=\u001b[39;49m\u001b[43mkeys\u001b[49m\u001b[43m,\u001b[49m\n\u001b[0;32m    388\u001b[0m \u001b[43m    \u001b[49m\u001b[43mlevels\u001b[49m\u001b[38;5;241;43m=\u001b[39;49m\u001b[43mlevels\u001b[49m\u001b[43m,\u001b[49m\n\u001b[0;32m    389\u001b[0m \u001b[43m    \u001b[49m\u001b[43mnames\u001b[49m\u001b[38;5;241;43m=\u001b[39;49m\u001b[43mnames\u001b[49m\u001b[43m,\u001b[49m\n\u001b[0;32m    390\u001b[0m \u001b[43m    \u001b[49m\u001b[43mverify_integrity\u001b[49m\u001b[38;5;241;43m=\u001b[39;49m\u001b[43mverify_integrity\u001b[49m\u001b[43m,\u001b[49m\n\u001b[0;32m    391\u001b[0m \u001b[43m    \u001b[49m\u001b[43mcopy\u001b[49m\u001b[38;5;241;43m=\u001b[39;49m\u001b[43mcopy\u001b[49m\u001b[43m,\u001b[49m\n\u001b[0;32m    392\u001b[0m \u001b[43m    \u001b[49m\u001b[43msort\u001b[49m\u001b[38;5;241;43m=\u001b[39;49m\u001b[43msort\u001b[49m\u001b[43m,\u001b[49m\n\u001b[0;32m    393\u001b[0m \u001b[43m\u001b[49m\u001b[43m)\u001b[49m\n\u001b[0;32m    395\u001b[0m \u001b[38;5;28;01mreturn\u001b[39;00m op\u001b[38;5;241m.\u001b[39mget_result()\n",
      "File \u001b[1;32mc:\\Users\\sainithin\\AppData\\Local\\Programs\\Python\\Python312\\Lib\\site-packages\\pandas\\core\\reshape\\concat.py:445\u001b[0m, in \u001b[0;36m_Concatenator.__init__\u001b[1;34m(self, objs, axis, join, keys, levels, names, ignore_index, verify_integrity, copy, sort)\u001b[0m\n\u001b[0;32m    442\u001b[0m \u001b[38;5;28mself\u001b[39m\u001b[38;5;241m.\u001b[39mverify_integrity \u001b[38;5;241m=\u001b[39m verify_integrity\n\u001b[0;32m    443\u001b[0m \u001b[38;5;28mself\u001b[39m\u001b[38;5;241m.\u001b[39mcopy \u001b[38;5;241m=\u001b[39m copy\n\u001b[1;32m--> 445\u001b[0m objs, keys \u001b[38;5;241m=\u001b[39m \u001b[38;5;28;43mself\u001b[39;49m\u001b[38;5;241;43m.\u001b[39;49m\u001b[43m_clean_keys_and_objs\u001b[49m\u001b[43m(\u001b[49m\u001b[43mobjs\u001b[49m\u001b[43m,\u001b[49m\u001b[43m \u001b[49m\u001b[43mkeys\u001b[49m\u001b[43m)\u001b[49m\n\u001b[0;32m    447\u001b[0m \u001b[38;5;66;03m# figure out what our result ndim is going to be\u001b[39;00m\n\u001b[0;32m    448\u001b[0m ndims \u001b[38;5;241m=\u001b[39m \u001b[38;5;28mself\u001b[39m\u001b[38;5;241m.\u001b[39m_get_ndims(objs)\n",
      "File \u001b[1;32mc:\\Users\\sainithin\\AppData\\Local\\Programs\\Python\\Python312\\Lib\\site-packages\\pandas\\core\\reshape\\concat.py:507\u001b[0m, in \u001b[0;36m_Concatenator._clean_keys_and_objs\u001b[1;34m(self, objs, keys)\u001b[0m\n\u001b[0;32m    504\u001b[0m     objs_list \u001b[38;5;241m=\u001b[39m \u001b[38;5;28mlist\u001b[39m(objs)\n\u001b[0;32m    506\u001b[0m \u001b[38;5;28;01mif\u001b[39;00m \u001b[38;5;28mlen\u001b[39m(objs_list) \u001b[38;5;241m==\u001b[39m \u001b[38;5;241m0\u001b[39m:\n\u001b[1;32m--> 507\u001b[0m     \u001b[38;5;28;01mraise\u001b[39;00m \u001b[38;5;167;01mValueError\u001b[39;00m(\u001b[38;5;124m\"\u001b[39m\u001b[38;5;124mNo objects to concatenate\u001b[39m\u001b[38;5;124m\"\u001b[39m)\n\u001b[0;32m    509\u001b[0m \u001b[38;5;28;01mif\u001b[39;00m keys \u001b[38;5;129;01mis\u001b[39;00m \u001b[38;5;28;01mNone\u001b[39;00m:\n\u001b[0;32m    510\u001b[0m     objs_list \u001b[38;5;241m=\u001b[39m \u001b[38;5;28mlist\u001b[39m(com\u001b[38;5;241m.\u001b[39mnot_none(\u001b[38;5;241m*\u001b[39mobjs_list))\n",
      "\u001b[1;31mValueError\u001b[0m: No objects to concatenate"
     ]
    }
   ],
   "source": [
    "import os\n",
    "import pandas as pd\n",
    "import nltk\n",
    "\n",
    "nltk.download('punkt')\n",
    "\n",
    "def load_dataset(dataset_path):\n",
    "    # Debugging: Print dataset path\n",
    "    print(f\"Loading dataset from: {dataset_path}\")\n",
    "    data_files = [os.path.join(dataset_path, f) for f in os.listdir(dataset_path) if f.endswith('.jsonl')]\n",
    "    print(f\"Found files: {data_files}\")  # Print the files found\n",
    "    data = []\n",
    "    for file in data_files:\n",
    "        df = pd.read_json(file, lines=True)\n",
    "        data.append(df)\n",
    "    return pd.concat(data, ignore_index=True)\n",
    "\n",
    "def preprocess_code(code):\n",
    "    # Tokenization and cleaning of code\n",
    "    tokens = nltk.word_tokenize(code)\n",
    "    return ' '.join(tokens)\n",
    "\n",
    "def preprocess_data(df):\n",
    "    print(\"Preprocessing data...\")\n",
    "    df['processed_code'] = df['code'].apply(preprocess_code)\n",
    "    print(\"Data preprocessed successfully.\")\n",
    "    return df[['processed_code', 'docstring']]\n",
    "\n",
    "if __name__ == \"__main__\":\n",
    "    dataset_path = 'E:/sai/UCE/Code_doc_generator/Datasets'\n",
    "    data = load_dataset(dataset_path)\n",
    "    processed_data = preprocess_data(data)\n",
    "    processed_data_dir = './data/processed'\n",
    "    os.makedirs(processed_data_dir, exist_ok=True)\n",
    "    processed_file_path = os.path.join(processed_data_dir, 'processed_code.csv')\n",
    "    processed_data.to_csv(processed_file_path, index=False)\n",
    "    print(f\"Processed data saved at: {processed_file_path}\")"
   ]
  },
  {
   "cell_type": "code",
   "execution_count": 20,
   "metadata": {},
   "outputs": [
    {
     "name": "stdout",
     "output_type": "stream",
     "text": [
      "Memory allocated: 0.00 GB\n",
      "Max memory allocated: 0.00 GB\n",
      "Memory reserved: 0.00 GB\n",
      "Max memory reserved: 0.00 GB\n"
     ]
    }
   ],
   "source": [
    "import torch\n",
    "\n",
    "# Print the amount of free and total memory on the GPU\n",
    "print(f\"Memory allocated: {torch.cuda.memory_allocated() / 1024**3:.2f} GB\")\n",
    "print(f\"Max memory allocated: {torch.cuda.max_memory_allocated() / 1024**3:.2f} GB\")\n",
    "print(f\"Memory reserved: {torch.cuda.memory_reserved() / 1024**3:.2f} GB\")\n",
    "print(f\"Max memory reserved: {torch.cuda.max_memory_reserved() / 1024**3:.2f} GB\")\n"
   ]
  },
  {
   "cell_type": "code",
   "execution_count": null,
   "metadata": {},
   "outputs": [],
   "source": []
  }
 ],
 "metadata": {
  "kernelspec": {
   "display_name": "Python 3",
   "language": "python",
   "name": "python3"
  },
  "language_info": {
   "codemirror_mode": {
    "name": "ipython",
    "version": 3
   },
   "file_extension": ".py",
   "mimetype": "text/x-python",
   "name": "python",
   "nbconvert_exporter": "python",
   "pygments_lexer": "ipython3",
   "version": "3.12.2"
  }
 },
 "nbformat": 4,
 "nbformat_minor": 2
}
