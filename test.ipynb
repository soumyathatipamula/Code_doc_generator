{
 "cells": [
  {
   "cell_type": "code",
   "execution_count": 5,
   "metadata": {},
   "outputs": [],
   "source": [
    "from datasets import load_dataset\n",
    "from transformers import RobertaTokenizer\n",
    "#\n"
   ]
  },
  {
   "cell_type": "code",
   "execution_count": 4,
   "metadata": {},
   "outputs": [],
   "source": [
    "\n",
    "\n",
    "# Load CodeSearchNet for Python and Java\n",
    "dataset = load_dataset('code_search_net', 'python', trust_remote_code=True, cache_dir=\"E:/sai/UCE/Code_doc_generator/Datasets\")\n",
    "dataset_java = load_dataset('code_search_net', 'java', trust_remote_code=True, cache_dir=\"E:/sai/UCE/Code_doc_generator/Datasets\")\n"
   ]
  },
  {
   "cell_type": "code",
   "execution_count": null,
   "metadata": {},
   "outputs": [],
   "source": [
    "\n",
    "tokenizer = RobertaTokenizer.from_pretrained(\"microsoft/codebert-base\")\n",
    "\n",
    "def tokenize_function(example):\n",
    "    return tokenizer(example[\"func_code_string\"], truncation=True, padding=\"max_length\", max_length=512)\n",
    "\n",
    "tokenized_python = dataset.map(tokenize_function, batched=True)\n",
    "tokenized_java = dataset_java.map(tokenize_function, batched=True)\n"
   ]
  }
 ],
 "metadata": {
  "kernelspec": {
   "display_name": "Python 3",
   "language": "python",
   "name": "python3"
  },
  "language_info": {
   "codemirror_mode": {
    "name": "ipython",
    "version": 3
   },
   "file_extension": ".py",
   "mimetype": "text/x-python",
   "name": "python",
   "nbconvert_exporter": "python",
   "pygments_lexer": "ipython3",
   "version": "3.12.2"
  }
 },
 "nbformat": 4,
 "nbformat_minor": 2
}
